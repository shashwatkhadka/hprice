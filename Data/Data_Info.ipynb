{
 "cells": [
  {
   "cell_type": "markdown",
   "id": "73aacd49",
   "metadata": {},
   "source": [
    "# Nepali Housing Market Info"
   ]
  },
  {
   "cell_type": "markdown",
   "id": "64518d03",
   "metadata": {},
   "source": [
    "Here are the major properties that determine the Housing Prices:\n",
    "1. Location\n",
    "2. Property Size, Area\n",
    "3. No. of Bedrooms & Bathroom\n",
    "4. Parking Availability\n",
    "5. Year Built\n",
    "6. Views and Facing\n",
    "7. Road Access and Width\n",
    "8. Amenities\n",
    "9. Build Area"
   ]
  },
  {
   "cell_type": "markdown",
   "id": "0f5333ac",
   "metadata": {},
   "source": [
    "### Descriptive Features into Numerical Values"
   ]
  },
  {
   "cell_type": "markdown",
   "id": "ac7f8719",
   "metadata": {},
   "source": [
    "most dataset values are string based categorical/descriptive features, we need to convert them into numerical values"
   ]
  },
  {
   "cell_type": "markdown",
   "id": "2fa2079a",
   "metadata": {},
   "source": [
    "#### Location:"
   ]
  },
  {
   "cell_type": "markdown",
   "id": "3bba0939",
   "metadata": {},
   "source": [
    "Housing locations based on cities, give them numbers,\n",
    "here we give numbers based on the metropolitian/sub-metro cities\n",
    "1. Kathmandu, Lalitpur, Bharatpur, Biratnagar, Pokhara, Birganj\n",
    "2. itahari, Dhangadi Janakpur, Ghorahi, Nepalgunj, tulsipur,hetauda, dharan,kalaiya,butwal, jitpur-simara"
   ]
  },
  {
   "cell_type": "markdown",
   "id": "c06c74cb",
   "metadata": {},
   "source": [
    "#### Facing:"
   ]
  },
  {
   "cell_type": "markdown",
   "id": "854a1d76",
   "metadata": {},
   "source": [
    "which direction a house faces is important based on nepali culture:\n",
    "1. East\n",
    "2. North\n",
    "3. North-East\n",
    "4. South-East\n",
    "5. North-West\n",
    "6. West\n",
    "7. South-West\n",
    "8. South"
   ]
  },
  {
   "cell_type": "markdown",
   "id": "11b9da75",
   "metadata": {},
   "source": [
    "#### Year Built:\n",
    "the newer the better"
   ]
  },
  {
   "cell_type": "markdown",
   "id": "be029557",
   "metadata": {},
   "source": [
    "#### Road Type:\n",
    "there are different road types, blacktopped, gravelled, concrete, paved, soil stabilised, ranking:\n",
    "1. Blacktopped\n",
    "2. Paved Road\n",
    "3. Concrete Road\n",
    "4. Gravelled Road\n",
    "5. Soil Stabilised Road\n",
    "\n",
    "#### Road Width:\n",
    "the bigger the better\n",
    "\n",
    "#### Amenities:\n",
    "categories of amenities,\n",
    "parking, lawn, garage, balcony, backyard, modular kitchen, garden, water supply, drainage, water well, \n",
    "\n",
    "1. Basic Utilites: Water Supply, Drainage, Electricity, Water Well\n",
    "2. Outdoor Space: Lawn, Garden, Balcony\n",
    "3. Parking: Garage"
   ]
  },
  {
   "cell_type": "code",
   "execution_count": null,
   "id": "87bd8d75",
   "metadata": {},
   "outputs": [],
   "source": []
  }
 ],
 "metadata": {
  "kernelspec": {
   "display_name": "Python 3 (ipykernel)",
   "language": "python",
   "name": "python3"
  },
  "language_info": {
   "codemirror_mode": {
    "name": "ipython",
    "version": 3
   },
   "file_extension": ".py",
   "mimetype": "text/x-python",
   "name": "python",
   "nbconvert_exporter": "python",
   "pygments_lexer": "ipython3",
   "version": "3.11.2"
  }
 },
 "nbformat": 4,
 "nbformat_minor": 5
}
