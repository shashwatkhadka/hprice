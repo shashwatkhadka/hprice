{
 "cells": [
  {
   "cell_type": "markdown",
   "id": "1ec9e8e2",
   "metadata": {},
   "source": [
    "## Supervised Learning\n",
    "\n",
    "House price prediction is a regression problem(xGBRegressor?)"
   ]
  },
  {
   "cell_type": "markdown",
   "id": "e543b45b",
   "metadata": {},
   "source": [
    "1. Data Preprocessing\n",
    "2. Data Analysis(Correlation between features)\n",
    "3. Split the dataset in to train/test \n",
    "4. train the data to the ML model\n",
    "5. evaluate the model with the help of testing data"
   ]
  },
  {
   "cell_type": "markdown",
   "id": "e845bb94",
   "metadata": {},
   "source": [
    "import numpy(arrays), pandas(dataframe), matplotlib(plots/graphs), seaborn(plotting), sklearn(datasets & algorithms)"
   ]
  },
  {
   "cell_type": "markdown",
   "id": "7380ffa3",
   "metadata": {},
   "source": [
    "sklearn\n",
    "1. \"datasets\"-> to get datasets\n",
    "2. \"train_test_split\"\n",
    "3. \"metrics\" to evaluate the model"
   ]
  },
  {
   "cell_type": "markdown",
   "id": "84203a1f",
   "metadata": {},
   "source": [
    "xgboost\n",
    "1. XGBRegressor-> ML Model\n",
    "\n"
   ]
  },
  {
   "cell_type": "code",
   "execution_count": null,
   "id": "75985dcb",
   "metadata": {},
   "outputs": [],
   "source": []
  },
  {
   "cell_type": "markdown",
   "id": "9c74ac44",
   "metadata": {},
   "source": [
    "data preprocessing:\n",
    "1. check for missing values\n",
    "1.1. Convert Categorical data into numerical one that the ML model can understand(Label ENcoding/OneHot ENcoding)\n",
    "2. statistical measures of the dataset\n",
    "3. correlation between the data(construct a heatmap to understand)"
   ]
  },
  {
   "cell_type": "markdown",
   "id": "a13a1bd4",
   "metadata": {},
   "source": [
    "splitting the data and target(price)\n",
    "\n",
    "split the data into training and test data"
   ]
  },
  {
   "cell_type": "raw",
   "id": "908d5e6c",
   "metadata": {},
   "source": [
    "Model training\n",
    "\n",
    "Evaluating the Model\n"
   ]
  },
  {
   "cell_type": "markdown",
   "id": "e5d5ca67",
   "metadata": {},
   "source": [
    "based on all the parameters, the price of the house will need to be the target array, or the target column"
   ]
  }
 ],
 "metadata": {
  "kernelspec": {
   "display_name": "Python 3 (ipykernel)",
   "language": "python",
   "name": "python3"
  },
  "language_info": {
   "codemirror_mode": {
    "name": "ipython",
    "version": 3
   },
   "file_extension": ".py",
   "mimetype": "text/x-python",
   "name": "python",
   "nbconvert_exporter": "python",
   "pygments_lexer": "ipython3",
   "version": "3.11.2"
  }
 },
 "nbformat": 4,
 "nbformat_minor": 5
}
